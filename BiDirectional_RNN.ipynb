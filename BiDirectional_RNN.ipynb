{
  "nbformat": 4,
  "nbformat_minor": 0,
  "metadata": {
    "colab": {
      "private_outputs": true,
      "provenance": [],
      "authorship_tag": "ABX9TyO4r96qgPjhdoT3c3wIwfJN",
      "include_colab_link": true
    },
    "kernelspec": {
      "name": "python3",
      "display_name": "Python 3"
    },
    "language_info": {
      "name": "python"
    }
  },
  "cells": [
    {
      "cell_type": "markdown",
      "metadata": {
        "id": "view-in-github",
        "colab_type": "text"
      },
      "source": [
        "<a href=\"https://colab.research.google.com/github/jay05Hawk/Bi_RNN/blob/main/BiDirectional_RNN.ipynb\" target=\"_parent\"><img src=\"https://colab.research.google.com/assets/colab-badge.svg\" alt=\"Open In Colab\"/></a>"
      ]
    },
    {
      "cell_type": "code",
      "execution_count": null,
      "metadata": {
        "id": "HgFOjcPpoXfh"
      },
      "outputs": [],
      "source": [
        "import os\n",
        "BASE_DIR = \"/content/drive/MyDrive/001_SUNNY_BHAVEEN_CHANDRA/001_My_Classes\"\n",
        "ROOT = os.path.join(BASE_DIR, \"DLCVNLP Aug 28th Batch/ALL_NOTES/July 23rd\")\n",
        "os.chdir(ROOT)"
      ]
    },
    {
      "cell_type": "code",
      "source": [
        "!pwd"
      ],
      "metadata": {
        "id": "CYSm3T3C4sa5"
      },
      "execution_count": null,
      "outputs": []
    },
    {
      "cell_type": "code",
      "source": [
        "import tensorflow as tf\n",
        "import numpy as np \n",
        "import tensorflow_datasets as tfds\n",
        "import matplotlib.pyplot as plt"
      ],
      "metadata": {
        "id": "bXdjK39I4sqV"
      },
      "execution_count": null,
      "outputs": []
    },
    {
      "cell_type": "code",
      "source": [
        "dataset_name = \"imdb_reviews\"\n",
        "\n",
        "dataset, info = tfds.load(dataset_name, with_info=True, as_supervised=True)"
      ],
      "metadata": {
        "id": "DHiBasGv4sxE"
      },
      "execution_count": null,
      "outputs": []
    },
    {
      "cell_type": "code",
      "source": [
        "info"
      ],
      "metadata": {
        "id": "H7iN9AEn4szz"
      },
      "execution_count": null,
      "outputs": []
    },
    {
      "cell_type": "code",
      "source": [
        "info.name"
      ],
      "metadata": {
        "id": "VJu0kZ4W4s2u"
      },
      "execution_count": null,
      "outputs": []
    },
    {
      "cell_type": "code",
      "source": [
        "print(info.description)"
      ],
      "metadata": {
        "id": "kYL-AeRF4s61"
      },
      "execution_count": null,
      "outputs": []
    },
    {
      "cell_type": "code",
      "source": [
        "dataset.keys()"
      ],
      "metadata": {
        "id": "YYRD4uFO4s_L"
      },
      "execution_count": null,
      "outputs": []
    },
    {
      "cell_type": "code",
      "source": [
        "train_ds, test_ds = dataset[\"train\"], dataset[\"test\"]"
      ],
      "metadata": {
        "id": "OZU9jThk4tB3"
      },
      "execution_count": null,
      "outputs": []
    },
    {
      "cell_type": "code",
      "source": [
        "for example, label in train_ds.take(3):\n",
        "  print(f\"Sample Text: \\n{example}\\n\")\n",
        "  print(f\"Label: \\n{label}\\n\")\n",
        "  print(\"--\"*30)"
      ],
      "metadata": {
        "id": "PjDzB9Hx4tEk"
      },
      "execution_count": null,
      "outputs": []
    },
    {
      "cell_type": "code",
      "source": [
        "type(10_000_000)"
      ],
      "metadata": {
        "id": "SAygcXFx4tHy"
      },
      "execution_count": null,
      "outputs": []
    },
    {
      "cell_type": "code",
      "source": [
        "class Config:\n",
        "  BUFFER_SIZE = 10_000\n",
        "  BATCH_SIZE = 64\n",
        "  VOCAB_SIZE = 1000\n",
        "  OUTPUT_DIM = 64\n",
        "  EPOCHS = 10\n",
        "  BASE_LOG_DIR = \"base_log_dir\"\n",
        "  TRAINED_MODEL_DIR = os.path.join(BASE_LOG_DIR, \"models\")\n",
        "  CHECKPOINT_DIR = os.path.join(BASE_LOG_DIR, \"ckpt\")\n",
        "  TB_ROOT_LOG_DIR = os.path.join(BASE_LOG_DIR, \"tb_log_dir\")"
      ],
      "metadata": {
        "id": "SEPP1H594tLK"
      },
      "execution_count": null,
      "outputs": []
    },
    {
      "cell_type": "code",
      "source": [
        "# Suffle and batch the training dataset\n",
        "\n",
        "train_ds = train_ds.shuffle(Config.BUFFER_SIZE).batch(Config.BATCH_SIZE).prefetch(tf.data.AUTOTUNE)\n",
        "test_ds = test_ds.batch(Config.BATCH_SIZE).prefetch(tf.data.AUTOTUNE)\n",
        "\n"
      ],
      "metadata": {
        "id": "fQawDsus4tPG"
      },
      "execution_count": null,
      "outputs": []
    },
    {
      "cell_type": "code",
      "source": [
        "for example, label in train_ds.take(1):\n",
        "  print(f\"Sample Text: \\n{example}\\n\")\n",
        "  print(f\"Label: \\n{label}\\n\")\n",
        "  print(\"--\"*30)"
      ],
      "metadata": {
        "id": "6iwVUQK34tS6"
      },
      "execution_count": null,
      "outputs": []
    },
    {
      "cell_type": "code",
      "source": [
        "len(example), len(label)"
      ],
      "metadata": {
        "id": "8S0ACBkY4tVi"
      },
      "execution_count": null,
      "outputs": []
    },
    {
      "cell_type": "code",
      "source": [
        "def function(text, label):\n",
        "  return text"
      ],
      "metadata": {
        "id": "jvsV_0rg4tZO"
      },
      "execution_count": null,
      "outputs": []
    },
    {
      "cell_type": "code",
      "source": [
        "# text encoding\n",
        "\n",
        "encoder = tf.keras.layers.TextVectorization(max_tokens=Config.VOCAB_SIZE)\n",
        "\n",
        "encoder.adapt(train_ds.map(lambda text, label: text))"
      ],
      "metadata": {
        "id": "SiyHHbsC4tcF"
      },
      "execution_count": null,
      "outputs": []
    },
    {
      "cell_type": "code",
      "source": [
        "# frist 20 tokens \n",
        "vocab = np.array(encoder.get_vocabulary())\n",
        "vocab[:20]"
      ],
      "metadata": {
        "id": "G9wsqgBB4te-"
      },
      "execution_count": null,
      "outputs": []
    },
    {
      "cell_type": "code",
      "source": [
        "example.numpy()[:3]"
      ],
      "metadata": {
        "id": "KSiC3pC24th5"
      },
      "execution_count": null,
      "outputs": []
    },
    {
      "cell_type": "code",
      "source": [
        "encoder(example.numpy()[:3])"
      ],
      "metadata": {
        "id": "eR9jbiA04tku"
      },
      "execution_count": null,
      "outputs": []
    },
    {
      "cell_type": "code",
      "source": [
        "len(encoder.get_vocabulary())"
      ],
      "metadata": {
        "id": "xCr1Tprn4tnz"
      },
      "execution_count": null,
      "outputs": []
    },
    {
      "cell_type": "code",
      "source": [
        "embedding_layer = tf.keras.layers.Embedding(\n",
        "    input_dim  = len(encoder.get_vocabulary()),\n",
        "    output_dim = Config.OUTPUT_DIM,\n",
        "    mask_zero=True\n",
        ")\n"
      ],
      "metadata": {
        "id": "q_h-iTIh4tq5"
      },
      "execution_count": null,
      "outputs": []
    },
    {
      "cell_type": "code",
      "source": [
        "LAYERS = [\n",
        "          encoder, # text vectorization\n",
        "          embedding_layer, # embedding layer\n",
        "          tf.keras.layers.Bidirectional(\n",
        "              tf.keras.layers.LSTM(64)\n",
        "          ),\n",
        "          tf.keras.layers.Dense(64, activation=\"relu\"),\n",
        "          tf.keras.layers.Dense(1)\n",
        "]\n",
        "\n",
        "model = tf.keras.Sequential(LAYERS)"
      ],
      "metadata": {
        "id": "EYYvR7EJ4uKL"
      },
      "execution_count": null,
      "outputs": []
    },
    {
      "cell_type": "code",
      "source": [
        "model.summary()"
      ],
      "metadata": {
        "id": "kjExnUQP4uM9"
      },
      "execution_count": null,
      "outputs": []
    },
    {
      "cell_type": "code",
      "source": [
        "for layer in model.layers:\n",
        "  print(layer.supports_masking)"
      ],
      "metadata": {
        "id": "tQxz18296ARU"
      },
      "execution_count": null,
      "outputs": []
    },
    {
      "cell_type": "code",
      "source": [
        "model.compile(\n",
        "    loss=tf.keras.losses.BinaryCrossentropy(from_logits=True),\n",
        "    optimizer=tf.keras.optimizers.Adam(learning_rate=1e-4),\n",
        "    metrics=[\"accuracy\"]\n",
        ")"
      ],
      "metadata": {
        "id": "nkWEw3IY6Afo"
      },
      "execution_count": null,
      "outputs": []
    },
    {
      "cell_type": "code",
      "source": [
        "import time\n",
        "import re"
      ],
      "metadata": {
        "id": "4bdghsvq6ArQ"
      },
      "execution_count": null,
      "outputs": []
    },
    {
      "cell_type": "code",
      "source": [
        "re.sub(r\"[\\s:]\", \"_\", time.asctime())"
      ],
      "metadata": {
        "id": "kqhrRsTm6Axo"
      },
      "execution_count": null,
      "outputs": []
    },
    {
      "cell_type": "code",
      "source": [
        "def callbacks(base_dir=\".\"):\n",
        "\n",
        "  # tensorboard callbacks\n",
        "  unique_log = re.sub(r\"[\\s:]\", \"_\", time.asctime())\n",
        "  tb_log_dir = os.path.join(Config.TB_ROOT_LOG_DIR, unique_log)\n",
        "  os.makedirs(tb_log_dir, exist_ok = True)\n",
        "\n",
        "  tb_cb = tf.keras.callbacks.TensorBoard(log_dir=tb_log_dir)\n",
        "\n",
        "  # ckpt callbacks\n",
        "  ckpt_file = os.path.join(Config.CHECKPOINT_DIR, \"model\")\n",
        "  os.makedirs(Config.CHECKPOINT_DIR, exist_ok=True)\n",
        "\n",
        "  ckpt_cb = tf.keras.callbacks.ModelCheckpoint(\n",
        "      filepath=ckpt_file,\n",
        "      save_best_only=True\n",
        "  )\n",
        "\n",
        "  return [tb_cb, ckpt_cb]"
      ],
      "metadata": {
        "id": "kd8A16lD6A2i"
      },
      "execution_count": null,
      "outputs": []
    },
    {
      "cell_type": "code",
      "source": [
        "callback_list = callbacks()\n",
        "\n",
        "history = model.fit(\n",
        "    train_ds,\n",
        "    epochs=Config.EPOCHS,\n",
        "    validation_data=test_ds,\n",
        "    validation_steps=30,\n",
        "    callbacks=callback_list\n",
        ")"
      ],
      "metadata": {
        "id": "yWwJc1Ch6A6I"
      },
      "execution_count": null,
      "outputs": []
    },
    {
      "cell_type": "code",
      "source": [
        "test_loss, test_acc = model.evaluate(test_ds)\n",
        "\n",
        "print(f\"test loss: {test_loss}\")\n",
        "print(f\"test accuracy: {test_acc}\")"
      ],
      "metadata": {
        "id": "nK6U-YqB6TXs"
      },
      "execution_count": null,
      "outputs": []
    },
    {
      "cell_type": "code",
      "source": [
        "def get_plot(history, metric):\n",
        "  history_obj = history.history\n",
        "  plt.plot(history_obj[metric])\n",
        "  plt.plot(history_obj[f\"val_{metric}\"])\n",
        "  plt.xlabel(\"Epochs -->\")\n",
        "  plt.ylabel(f\"{metric} -->\")\n",
        "  plt.legend([metric, f\"val_{metric}\"])"
      ],
      "metadata": {
        "id": "vMEUso7Q6Tbf"
      },
      "execution_count": null,
      "outputs": []
    },
    {
      "cell_type": "code",
      "source": [
        "plt.style.use(\"fivethirtyeight\")"
      ],
      "metadata": {
        "id": "K_5atx7Z6Tey"
      },
      "execution_count": null,
      "outputs": []
    },
    {
      "cell_type": "code",
      "source": [
        "get_plot(history, metric=\"accuracy\")"
      ],
      "metadata": {
        "id": "eHw_Z2Sr6Th2"
      },
      "execution_count": null,
      "outputs": []
    },
    {
      "cell_type": "code",
      "source": [
        "get_plot(history, metric=\"loss\")\n"
      ],
      "metadata": {
        "id": "l0J7JbWY6Tk7"
      },
      "execution_count": null,
      "outputs": []
    },
    {
      "cell_type": "code",
      "source": [
        "%load_ext tensorboard"
      ],
      "metadata": {
        "id": "G05_Q6BE6TpD"
      },
      "execution_count": null,
      "outputs": []
    },
    {
      "cell_type": "code",
      "source": [
        "%tensorboard --logdir base_log_dir/tb_log_dir"
      ],
      "metadata": {
        "id": "YngJUUBt6Tr0"
      },
      "execution_count": null,
      "outputs": []
    },
    {
      "cell_type": "code",
      "source": [
        "sample_text_pos = (\n",
        "    \"The movie was cool. The animation and the graphics were out of the world. I would definitly recommend this movie\"\n",
        ")\n",
        "\n",
        "sample_text_neg = (\n",
        "    \"The movie was horrible. The animation and the graphics were terrible. I would never recommend this movie\"\n",
        ")"
      ],
      "metadata": {
        "id": "2gFk-rpk6UP5"
      },
      "execution_count": null,
      "outputs": []
    },
    {
      "cell_type": "code",
      "source": [
        "model.predict([sample_text_pos])"
      ],
      "metadata": {
        "id": "-Z8p8jKm6xd7"
      },
      "execution_count": null,
      "outputs": []
    },
    {
      "cell_type": "code",
      "source": [
        "model.predict([sample_text_neg])"
      ],
      "metadata": {
        "id": "wn6BAGPF6xhW"
      },
      "execution_count": null,
      "outputs": []
    },
    {
      "cell_type": "code",
      "source": [
        "model.predict(['Taj Mahal is beautiful'])"
      ],
      "metadata": {
        "id": "9o1qo6J36xlK"
      },
      "execution_count": null,
      "outputs": []
    },
    {
      "cell_type": "code",
      "source": [
        "model.predict([\"Today the start of the was bad\"])"
      ],
      "metadata": {
        "id": "lAElYY096x7o"
      },
      "execution_count": null,
      "outputs": []
    },
    {
      "cell_type": "code",
      "source": [
        "model.predict([\"Its a regular day today\"])"
      ],
      "metadata": {
        "id": "eLjuV67C6x-Q"
      },
      "execution_count": null,
      "outputs": []
    },
    {
      "cell_type": "code",
      "source": [
        "def getscore_and_setiment(model, sample_text):\n",
        "  pred = model.predict([sample_text])\n",
        "  score = pred[0][0]\n",
        "\n",
        "  if score > 0:\n",
        "    print(f\"result: positive sentiment with score: {score}\")\n",
        "  else:\n",
        "    print(f\"result: negative sentiment with score: {score}\")\n"
      ],
      "metadata": {
        "id": "vHc9NTo76yBO"
      },
      "execution_count": null,
      "outputs": []
    },
    {
      "cell_type": "code",
      "source": [
        "getscore_and_setiment(model, \"Today the start of the was bad\")"
      ],
      "metadata": {
        "id": "t61m3B3e6yD6"
      },
      "execution_count": null,
      "outputs": []
    },
    {
      "cell_type": "code",
      "source": [
        "getscore_and_setiment(model, sample_text_pos)\n"
      ],
      "metadata": {
        "id": "1zIqFg8U6yYS"
      },
      "execution_count": null,
      "outputs": []
    },
    {
      "cell_type": "code",
      "source": [],
      "metadata": {
        "id": "1IxF-TUZ6ybW"
      },
      "execution_count": null,
      "outputs": []
    }
  ]
}